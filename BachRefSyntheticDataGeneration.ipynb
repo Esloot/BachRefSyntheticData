{
  "nbformat": 4,
  "nbformat_minor": 0,
  "metadata": {
    "colab": {
      "name": "BachRefSyntheticDataGeneration.ipynb",
      "provenance": [],
      "collapsed_sections": []
    },
    "kernelspec": {
      "name": "python3",
      "display_name": "Python 3"
    },
    "language_info": {
      "name": "python"
    }
  },
  "cells": [
    {
      "cell_type": "markdown",
      "source": [
        "Install and configure libraries"
      ],
      "metadata": {
        "id": "E3Lr35TiGmXB"
      }
    },
    {
      "cell_type": "code",
      "source": [
        "!pip install faker"
      ],
      "metadata": {
        "colab": {
          "base_uri": "https://localhost:8080/"
        },
        "id": "87Z2A46c6bNQ",
        "outputId": "c916be3e-6d83-47af-daeb-2c831ce6ec73"
      },
      "execution_count": null,
      "outputs": [
        {
          "output_type": "stream",
          "name": "stdout",
          "text": [
            "Looking in indexes: https://pypi.org/simple, https://us-python.pkg.dev/colab-wheels/public/simple/\n",
            "Collecting faker\n",
            "  Downloading Faker-13.14.0-py3-none-any.whl (1.6 MB)\n",
            "\u001b[K     |████████████████████████████████| 1.6 MB 13.1 MB/s \n",
            "\u001b[?25hRequirement already satisfied: python-dateutil>=2.4 in /usr/local/lib/python3.7/dist-packages (from faker) (2.8.2)\n",
            "Requirement already satisfied: typing-extensions>=3.10.0.2 in /usr/local/lib/python3.7/dist-packages (from faker) (4.1.1)\n",
            "Requirement already satisfied: six>=1.5 in /usr/local/lib/python3.7/dist-packages (from python-dateutil>=2.4->faker) (1.15.0)\n",
            "Installing collected packages: faker\n",
            "Successfully installed faker-13.14.0\n"
          ]
        }
      ]
    },
    {
      "cell_type": "code",
      "source": [
        "from faker import Faker\n",
        "\n",
        "import numpy as np\n",
        "\n",
        "faker_instance = Faker('nl_NL')"
      ],
      "metadata": {
        "id": "5MMM19B9EqTm"
      },
      "execution_count": null,
      "outputs": []
    },
    {
      "cell_type": "markdown",
      "source": [
        "Create and initialize our different persons as required (Patients, GPs and Biolab Employees)"
      ],
      "metadata": {
        "id": "jbtE1q2QGrPG"
      }
    },
    {
      "cell_type": "code",
      "source": [
        "class Person:\n",
        "  def __init__(self, id):\n",
        "    self.id = id\n",
        "    self.gp = None\n",
        "    self.gender = np.random.choice([\"M\", \"F\", \"NB\"], p=[0.49, 0.49, 0.02])\n",
        "    self.ssn = faker_instance.ssn()\n",
        "    self.last_name = faker_instance.last_name()\n",
        "\n",
        "    if self.gender == \"M\":\n",
        "      self.first_name = faker_instance.first_name_male()\n",
        "    elif self.gender == \"F\":\n",
        "      self.first_name = faker_instance.first_name_female()\n",
        "    else:\n",
        "      self.first_name = faker_instance.first_name_nonbinary()"
      ],
      "metadata": {
        "id": "ww24UE9QFPI9"
      },
      "execution_count": null,
      "outputs": []
    },
    {
      "cell_type": "code",
      "source": [
        "class GP(Person):\n",
        "  def __init__(self, id):\n",
        "    Person.__init__(self, id)\n",
        "\n",
        "  def __str__(self):\n",
        "    return \"GP #%d, %s %s, %s, %s\" % (self.id, self.first_name, self.last_name, self.gender, self.ssn)\n",
        "\n",
        "gps = [GP(id) for id in range(0, 30)]\n",
        "\n",
        "for gp in gps[0:10]:\n",
        "  print(gp)"
      ],
      "metadata": {
        "colab": {
          "base_uri": "https://localhost:8080/"
        },
        "id": "x7m2ZOr5FAJ7",
        "outputId": "c0d92d88-445c-4375-b260-ce1735c9d479"
      },
      "execution_count": null,
      "outputs": [
        {
          "output_type": "stream",
          "name": "stdout",
          "text": [
            "GP #0, Lauren van de Wiel, F, 014825934\n",
            "GP #1, Jason Massa, M, 429175061\n",
            "GP #2, Hendrik Slagmolen, M, 346197806\n",
            "GP #3, Jayden Dennenberg, M, 921306489\n",
            "GP #4, Lex Brisee, M, 716984027\n",
            "GP #5, Jonas Kuijpers, M, 124076385\n",
            "GP #6, Anouk le Matelot, F, 385492674\n",
            "GP #7, Jennifer Lucas, F, 328670455\n",
            "GP #8, Boaz Bertho, M, 537819629\n",
            "GP #9, Alexander Mulder, M, 361250496\n"
          ]
        }
      ]
    },
    {
      "cell_type": "code",
      "execution_count": null,
      "metadata": {
        "colab": {
          "base_uri": "https://localhost:8080/"
        },
        "id": "aZ_Ff4eF6UYL",
        "outputId": "0645af7d-5107-4aba-aa29-89c9c78986fd"
      },
      "outputs": [
        {
          "output_type": "stream",
          "name": "stdout",
          "text": [
            "GP #17, Sven van Bunschoten, M, 624079181, Patient #0, Maja Wilmont, F, (849120652 1977-11-17 Lennbaan 767, 4928 CA, Lobith)\n",
            "GP #17, Sven van Bunschoten, M, 624079181, Patient #1, Juliette Verhaar, F, (402936152 1960-07-02 Jaspersingel 19, 1345BX, Kuitaart)\n",
            "GP #14, Melle Veltman, M, 567243199, Patient #2, Ilse van der Plas, F, (803964171 1959-05-31 Jasondreef 047, 4920AW, Roderwolde)\n",
            "GP #8, Boaz Bertho, M, 537819629, Patient #3, Loïs Eelman, F, (632084911 2007-08-31 Owenpad 780, 4855 MB, Haaksbergen)\n",
            "GP #20, Renske Ketting, F, 283975106, Patient #4, Wessel Kalman, M, (245608175 1980-11-03 Kimpad 420, 3676HL, Norg)\n",
            "GP #18, Lauren Wright, F, 234716587, Patient #5, Thom van Gorp, M, (268704399 2012-06-02 Renskedreef 29, 6556 XF, Urk)\n",
            "GP #8, Boaz Bertho, M, 537819629, Patient #6, Yara van Vermandois, F, (790568238 1969-06-07 Laurensweg 30, 3896HQ, Aagtekerke)\n",
            "GP #14, Melle Veltman, M, 567243199, Patient #7, Hailey Zwart, F, (265703918 1953-09-11 Marinushof 753, 9302LH, Rockanje)\n",
            "GP #26, Ruben Mansvelt, M, 913780261, Patient #8, Lieve Vallenduuk, F, (246130891 1959-02-02 Bostraat 0, 8832PP, Guttecoven)\n",
            "GP #13, Nova Fredriks, F, 432015760, Patient #9, Lois Dirksen, F, (560418735 1995-11-23 Gerritstraat 36, 2558NO, Klundert)\n"
          ]
        }
      ],
      "source": [
        "class Patient (Person):\n",
        "  def __init__(self, id):\n",
        "    Person.__init__(self, id) \n",
        "    self.address = faker_instance.address().replace(\"\\n\", \", \")\n",
        "    self.date_of_birth = faker_instance.date_of_birth()\n",
        "    self.gp = np.random.choice(gps)\n",
        "  \n",
        "  def __str__(self):\n",
        "    return \"%s, Patient #%d, %s %s, %s, (%s %s %s)\" % (self.gp, self.id, self.first_name, self.last_name, self.gender, self.ssn, self.date_of_birth, self.address)\n",
        "\n",
        "patients = [Patient(id) for id in range(0, 1500)]\n",
        "\n",
        "for patient in patients[0:10]:\n",
        "  print(patient)"
      ]
    },
    {
      "cell_type": "code",
      "source": [
        "class Biolab:\n",
        "  def __init__(self, name):\n",
        "    self.name = name\n",
        "    #self.employees = employees\n",
        "  \n",
        "  def __str__(self):\n",
        "    return \"Biolab <%s>\"%(self.name)\n",
        "\n",
        "lab = Biolab(\"primlab\")\n",
        "print(lab)\n"
      ],
      "metadata": {
        "colab": {
          "base_uri": "https://localhost:8080/"
        },
        "id": "tsxYDkLJb58j",
        "outputId": "c8c6cd15-22f0-4cd8-f9bd-46a577a18817"
      },
      "execution_count": null,
      "outputs": [
        {
          "output_type": "stream",
          "name": "stdout",
          "text": [
            "Biolab <primlab>\n"
          ]
        }
      ]
    },
    {
      "cell_type": "code",
      "source": [
        "class Employee(Person):\n",
        "  def __init__(self, id):\n",
        "    Person.__init__(self, id)\n",
        "    self.job = np.random.choice([\"Tester\", \"Analyst\"], p=[0.7, 0.3])\n",
        "    self.email = faker_instance.unique.email()\n",
        "    self.biolab = lab\n",
        "  \n",
        "  def __str__(self):\n",
        "    return \"Employee #%d, %s %s, %s, %s, (%s %s %s)\" % (self.id, self.first_name, self.last_name, self.gender, self.ssn, self.job, self.email, self.biolab)\n",
        "\n",
        "employees = [Employee(id) for id in range(0, 30)]\n",
        "\n",
        "\n",
        "for employee in employees[0:10]:\n",
        "  print(employee)"
      ],
      "metadata": {
        "colab": {
          "base_uri": "https://localhost:8080/"
        },
        "id": "1fSJ5g1DIcal",
        "outputId": "85090d15-2bd7-4eac-b3e1-7f12c8a5026f"
      },
      "execution_count": null,
      "outputs": [
        {
          "output_type": "stream",
          "name": "stdout",
          "text": [
            "Employee #0, Aya van Beieren, F, 856724105, (Tester bweijland@example.net Biolab <primlab>)\n",
            "Employee #1, Marinus Schouten, M, 245079683, (Tester noahvan-este@example.com Biolab <primlab>)\n",
            "Employee #2, Joël Jansse, M, 397450825, (Tester van-de-klashorstlisa@example.org Biolab <primlab>)\n",
            "Employee #3, Stefan Sas, M, 027148968, (Analyst tvan-ooyen@example.org Biolab <primlab>)\n",
            "Employee #4, Tobias van den Assem, M, 376041286, (Tester bleeskeano@example.net Biolab <primlab>)\n",
            "Employee #5, Mason Labado, M, 753184205, (Tester floortje62@example.org Biolab <primlab>)\n",
            "Employee #6, Silke Kalman, F, 834516093, (Analyst evavan-bernicia@example.com Biolab <primlab>)\n",
            "Employee #7, Puk Le Marec, F, 809624370, (Tester jayson07@example.org Biolab <primlab>)\n",
            "Employee #8, Valentijn de Gruijl, M, 017953649, (Analyst van-rietlily@example.org Biolab <primlab>)\n",
            "Employee #9, Lorenzo Oosterhek, M, 092483173, (Analyst jannewillemsen@example.net Biolab <primlab>)\n"
          ]
        }
      ]
    },
    {
      "cell_type": "code",
      "source": [
        "class Coagulator:\n",
        "  def __init__(self, id, factor, color):\n",
        "    self.id = id\n",
        "    self.factor = factor\n",
        "    self.color = color\n",
        "  \n",
        "  def __str__(self):\n",
        "    return \"Coagulator %d, [factor=%s, color=%s]\" %(self.id, self.factor, self.color)\n",
        "\n",
        "coagulators = [Coagulator(id, factor, color) for (id, factor, color) in [\n",
        "  (0, \"none\", \"Red\"),\n",
        "  (1, \"Sodium Fluoride\", \"Grey\"),\n",
        "  (2, \"EDTA\", \"Purple\"),\n",
        "  (3, \"3.2% Sodium Citrate\", \"Light Blue\"),\n",
        "  (4, \"Heparin\", \"Green\"),\n",
        "  (5, \"Citrate\", \"Yellow\"),\n",
        "  (6, \"(K2)EDTA\", \"Pink\"),\n",
        "  (7, \"EDTA/plain\", \"Dark blue\")\n",
        "]]\n",
        "\n",
        "for coagulator in coagulators:\n",
        "  print(coagulator)"
      ],
      "metadata": {
        "id": "PqiCdfGdk__v",
        "colab": {
          "base_uri": "https://localhost:8080/"
        },
        "outputId": "3eb21e3e-8a57-44a2-b35f-b2d84bcbaaef"
      },
      "execution_count": null,
      "outputs": [
        {
          "output_type": "stream",
          "name": "stdout",
          "text": [
            "Coagulator 0, [factor=none, color=Red]\n",
            "Coagulator 1, [factor=Sodium Fluoride, color=Grey]\n",
            "Coagulator 2, [factor=EDTA, color=Purple]\n",
            "Coagulator 3, [factor=3.2% Sodium Citrate, color=Light Blue]\n",
            "Coagulator 4, [factor=Heparin, color=Green]\n",
            "Coagulator 5, [factor=Citrate, color=Yellow]\n",
            "Coagulator 6, [factor=(K2)EDTA, color=Pink]\n",
            "Coagulator 7, [factor=EDTA/plain, color=Dark blue]\n"
          ]
        }
      ]
    },
    {
      "cell_type": "code",
      "source": [
        "class TestTube:\n",
        "  def __init__(self, id):\n",
        "    self.barcode = np.random.randint(100000000000, 999999999999)\n",
        "    self.coagulator = np.random.choice(coagulators)\n",
        "    self.emergency = np.random.choice([\"True\", \"False\"], p=(0.1, 0.9))\n",
        "  def __str__(self):\n",
        "    return \"Testtube #%d, coagulator %d, Emergency %s\" % (self.barcode, self.coagulator.id, self.emergency)\n",
        "  \n",
        "\n",
        "testtubes = [TestTube(id) for id in range(0, 1500)]\n",
        "\n",
        "for testtube in testtubes[0:10]:\n",
        "  print(testtube)"
      ],
      "metadata": {
        "colab": {
          "base_uri": "https://localhost:8080/"
        },
        "id": "WV3rgPMjo8yg",
        "outputId": "28cef552-69fe-4b32-cbdf-c38d6cb15b5c"
      },
      "execution_count": null,
      "outputs": [
        {
          "output_type": "stream",
          "name": "stdout",
          "text": [
            "Testtube #776135531495, coagulator 2, Emergency False\n",
            "Testtube #541308934759, coagulator 3, Emergency False\n",
            "Testtube #977446301326, coagulator 1, Emergency False\n",
            "Testtube #456852704835, coagulator 4, Emergency False\n",
            "Testtube #440972560479, coagulator 0, Emergency False\n",
            "Testtube #338283233329, coagulator 2, Emergency False\n",
            "Testtube #473581698902, coagulator 3, Emergency False\n",
            "Testtube #881310803715, coagulator 5, Emergency False\n",
            "Testtube #918458234488, coagulator 2, Emergency False\n",
            "Testtube #717233135180, coagulator 5, Emergency False\n"
          ]
        }
      ]
    },
    {
      "cell_type": "code",
      "source": [
        "import datetime\n",
        "import random\n",
        "class Moment:\n",
        "  def __init__(self, id):\n",
        "    self.tube = testtubes[id]\n",
        "    start_date = datetime.datetime(2020, 1, 1, 0, 0, 0)\n",
        "    end_date = datetime.datetime(2022, 6, 1, 23, 59, 59)\n",
        "    time_between_dates = end_date - start_date\n",
        "    seconds_between_dates = time_between_dates.total_seconds()\n",
        "    random_number_of_seconds = random.randrange(seconds_between_dates)\n",
        "    two_hours_max = random.randrange(7200)\n",
        "    two_hours_min = random.randrange(7200,1209600)\n",
        "    time_to_result = random.randrange(259200,432000)\n",
        "    self.random_date1 = start_date + datetime.timedelta(seconds=random_number_of_seconds)\n",
        "    self.random_date2 = self.random_date1 + datetime.timedelta(seconds=two_hours_max)\n",
        "    if self.tube.emergency == \"True\":\n",
        "      self.random_date3 = self.random_date2 + datetime.timedelta(seconds=two_hours_max)\n",
        "    else:\n",
        "      self.random_date3 = self.random_date2 + datetime.timedelta(seconds=two_hours_min)\n",
        "    self.random_date4 = self.random_date3 + datetime.timedelta(seconds=time_to_result)\n",
        "  def __str__(self):\n",
        "    return \"Contact with patient #%s, Contact with biolab %s, Test taken %s, Results given %s, Emergency %s\" % (self.random_date1, self.random_date2, self.random_date3, self.random_date4, self.tube.emergency)\n",
        "\n",
        "moments = [Moment(id) for id in range(0,1500)]\n",
        "\n",
        "for moment in moments[0:10]:\n",
        "  print(moment)"
      ],
      "metadata": {
        "id": "4E_azwm9bUR-",
        "colab": {
          "base_uri": "https://localhost:8080/"
        },
        "outputId": "f3e3c4ce-4b4d-4ffa-c2e1-19b01eaee565"
      },
      "execution_count": null,
      "outputs": [
        {
          "output_type": "stream",
          "name": "stdout",
          "text": [
            "Contact with patient #2021-02-10 21:39:56, Contact with biolab 2021-02-10 22:48:15, Test taken 2021-02-15 17:07:44, Results given 2021-02-20 15:41:46, Emergency False\n",
            "Contact with patient #2021-11-26 14:58:27, Contact with biolab 2021-11-26 15:43:13, Test taken 2021-11-26 22:25:00, Results given 2021-12-01 17:41:56, Emergency False\n",
            "Contact with patient #2020-10-11 22:41:41, Contact with biolab 2020-10-11 22:47:02, Test taken 2020-10-19 11:20:31, Results given 2020-10-24 11:06:45, Emergency False\n",
            "Contact with patient #2021-09-26 22:46:04, Contact with biolab 2021-09-27 00:24:43, Test taken 2021-10-06 05:27:36, Results given 2021-10-10 02:05:05, Emergency False\n",
            "Contact with patient #2021-02-06 19:54:52, Contact with biolab 2021-02-06 21:52:25, Test taken 2021-02-12 16:44:16, Results given 2021-02-17 08:46:49, Emergency False\n",
            "Contact with patient #2021-12-15 12:13:43, Contact with biolab 2021-12-15 13:19:02, Test taken 2021-12-19 16:31:50, Results given 2021-12-22 22:57:16, Emergency False\n",
            "Contact with patient #2022-02-26 23:04:04, Contact with biolab 2022-02-27 00:44:52, Test taken 2022-03-12 08:04:47, Results given 2022-03-16 06:31:15, Emergency False\n",
            "Contact with patient #2020-09-02 21:39:15, Contact with biolab 2020-09-02 22:41:40, Test taken 2020-09-08 09:05:02, Results given 2020-09-12 18:07:53, Emergency False\n",
            "Contact with patient #2021-05-17 03:27:50, Contact with biolab 2021-05-17 04:41:20, Test taken 2021-05-19 07:42:43, Results given 2021-05-22 09:04:40, Emergency False\n",
            "Contact with patient #2022-01-04 16:06:31, Contact with biolab 2022-01-04 16:37:12, Test taken 2022-01-17 20:36:08, Results given 2022-01-21 17:27:51, Emergency False\n"
          ]
        }
      ]
    },
    {
      "cell_type": "code",
      "source": [
        "testers = []\n",
        "analysts = []\n",
        "class Result:\n",
        "  def __init__(self, id):\n",
        "    self.threshold = np.random.choice([\"above\", \"equal to\", \"below\"], p=(0.2, 0.6, 0.2))\n",
        "    self.description = \"A very long textual description of what the results actually entail and whether there were any weird instances and/or combinations\"\n",
        "    for employee in employees:\n",
        "      if employee.job == \"Tester\":\n",
        "        testers.append(employee)\n",
        "      else:\n",
        "        analysts.append(employee)\n",
        "    self.analyzer = np.random.choice(analysts)\n",
        "\n",
        "  def __str__(self):\n",
        "    return \"%s, The threshold is %s normal, %s,\" % (self.analyzer, self.threshold, self.description)\n",
        "\n",
        "results = [Result(id) for id in range(0,1500)]\n",
        "\n",
        "for result in results[0:10]:\n",
        "  print(result)"
      ],
      "metadata": {
        "colab": {
          "base_uri": "https://localhost:8080/"
        },
        "id": "44j5pHjVormU",
        "outputId": "5f2d15bc-da3f-4330-e3c2-566c64bf5cc2"
      },
      "execution_count": null,
      "outputs": [
        {
          "output_type": "stream",
          "name": "stdout",
          "text": [
            "Employee #6, Silke Kalman, F, 834516093, (Analyst evavan-bernicia@example.com Biolab <primlab>), The threshold is above normal, A very long textual description of what the results actually entail and whether there were any weird instances and/or combinations,\n",
            "Employee #3, Stefan Sas, M, 027148968, (Analyst tvan-ooyen@example.org Biolab <primlab>), The threshold is below normal, A very long textual description of what the results actually entail and whether there were any weird instances and/or combinations,\n",
            "Employee #8, Valentijn de Gruijl, M, 017953649, (Analyst van-rietlily@example.org Biolab <primlab>), The threshold is above normal, A very long textual description of what the results actually entail and whether there were any weird instances and/or combinations,\n",
            "Employee #6, Silke Kalman, F, 834516093, (Analyst evavan-bernicia@example.com Biolab <primlab>), The threshold is equal to normal, A very long textual description of what the results actually entail and whether there were any weird instances and/or combinations,\n",
            "Employee #26, Dave Buijs, M, 569278430, (Analyst elif04@example.net Biolab <primlab>), The threshold is equal to normal, A very long textual description of what the results actually entail and whether there were any weird instances and/or combinations,\n",
            "Employee #15, Evi Welf, F, 452780962, (Analyst omichiels@example.net Biolab <primlab>), The threshold is equal to normal, A very long textual description of what the results actually entail and whether there were any weird instances and/or combinations,\n",
            "Employee #10, Josephine Smit, F, 154372092, (Analyst damiankronenberg@example.net Biolab <primlab>), The threshold is equal to normal, A very long textual description of what the results actually entail and whether there were any weird instances and/or combinations,\n",
            "Employee #15, Evi Welf, F, 452780962, (Analyst omichiels@example.net Biolab <primlab>), The threshold is equal to normal, A very long textual description of what the results actually entail and whether there were any weird instances and/or combinations,\n",
            "Employee #25, Fabiënne Blaak, F, 607984521, (Analyst maartentakkelenburg@example.org Biolab <primlab>), The threshold is equal to normal, A very long textual description of what the results actually entail and whether there were any weird instances and/or combinations,\n",
            "Employee #25, Fabiënne Blaak, F, 607984521, (Analyst maartentakkelenburg@example.org Biolab <primlab>), The threshold is below normal, A very long textual description of what the results actually entail and whether there were any weird instances and/or combinations,\n"
          ]
        }
      ]
    },
    {
      "cell_type": "code",
      "source": [
        "import pandas as pd\n",
        "import numpy as np\n",
        "\n",
        "class Datasetsmall:\n",
        "  def __init__ (self, id):\n",
        "    self.id = id\n",
        "    self.moment = moments[id]\n",
        "    self.tube = testtubes[id]\n",
        "    self.tester = np.random.choice(testers)\n",
        "    self.patient = np.random.choice(patients)\n",
        "    self.gp = self.patient.gp\n",
        "    self.result = np.random.choice(results)\n",
        "    self.biolab = lab\n",
        "    self.moment1 = self.moment.random_date1\n",
        "    self.moment2 = self.moment.random_date2\n",
        "    self.moment3 = self.moment.random_date3\n",
        "    self.moment4 = self.moment.random_date4\n",
        "    \n",
        "  def __str__(self):\n",
        "    cancel = np.random.choice([True, False], p=(0.03, 0.97))\n",
        "    if cancel:\n",
        "      return \"%s, Contact with patient,  %s, \\n %d, %s, Contact with biolab,  %s, %s\" %(self.moment1, self.patient, self.id, self.moment2, self.gp, self.biolab)\n",
        "    else:\n",
        "      return \"%s, Contact with patient,  %s, \\n %d, %s, Contact with biolab,  %s, %s \\n %d, %s, Test taken, %s, %s \\n %d, %s, Results given,  %s\" %(self.moment1, self.patient, self.id, self.moment2, self.gp, self.biolab, self.id, self.moment3, self.tester, self.tube, self.id, self.moment4, self.result)\n",
        "\n",
        "datasets = [Datasetsmall(id) for id in range(0,1500)]\n",
        "\n",
        "for dataset in datasets[0:20]:\n",
        "  print(dataset)\n",
        "\n",
        "for dataset in datasets[0:1500]:\n",
        "  df = pd.DataFrame(datasets)\n",
        "  df.to_csv(\"labinformation.csv\", sep =\",\", index_label=False)"
      ],
      "metadata": {
        "colab": {
          "base_uri": "https://localhost:8080/"
        },
        "id": "TuXOtI_JyUtY",
        "outputId": "8eaec3e0-aca1-4abf-996c-048c974eb482"
      },
      "execution_count": null,
      "outputs": [
        {
          "output_type": "stream",
          "name": "stdout",
          "text": [
            "2021-02-10 21:39:56, Contact with patient,  GP #15, Samuel de Beer, M, 203948750, Patient #523, Stella Vervoort, F, (891236053 2000-10-03 Jaylinnsteeg 95, 1893JC, Macharen), \n",
            " 0, 2021-02-10 22:48:15, Contact with biolab,  GP #15, Samuel de Beer, M, 203948750, Biolab <primlab> \n",
            " 0, 2021-02-15 17:07:44, Test taken, Employee #13, Mia Steenbakkers, F, 163859425, (Tester aaronden-buytelaar@example.org Biolab <primlab>), Testtube #776135531495, coagulator 2, Emergency False \n",
            " 0, 2021-02-20 15:41:46, Results given,  Employee #6, Silke Kalman, F, 834516093, (Analyst evavan-bernicia@example.com Biolab <primlab>), The threshold is above normal, A very long textual description of what the results actually entail and whether there were any weird instances and/or combinations,\n",
            "2021-11-26 14:58:27, Contact with patient,  GP #29, Jay Haneberg, M, 247359063, Patient #136, Julia Courtier, F, (761295483 1928-02-28 Eviepad 0, 5518WE, De Goorn), \n",
            " 1, 2021-11-26 15:43:13, Contact with biolab,  GP #29, Jay Haneberg, M, 247359063, Biolab <primlab> \n",
            " 1, 2021-11-26 22:25:00, Test taken, Employee #0, Aya van Beieren, F, 856724105, (Tester bweijland@example.net Biolab <primlab>), Testtube #541308934759, coagulator 3, Emergency False \n",
            " 1, 2021-12-01 17:41:56, Results given,  Employee #3, Stefan Sas, M, 027148968, (Analyst tvan-ooyen@example.org Biolab <primlab>), The threshold is equal to normal, A very long textual description of what the results actually entail and whether there were any weird instances and/or combinations,\n",
            "2020-10-11 22:41:41, Contact with patient,  GP #1, Jason Massa, M, 429175061, Patient #1344, Jelle Mathieu, M, (475680911 1952-04-02 Casdreef 136, 6813WN, Walsoorden), \n",
            " 2, 2020-10-11 22:47:02, Contact with biolab,  GP #1, Jason Massa, M, 429175061, Biolab <primlab> \n",
            " 2, 2020-10-19 11:20:31, Test taken, Employee #21, Laurens van Veen, M, 103469254, (Tester esmee74@example.org Biolab <primlab>), Testtube #977446301326, coagulator 1, Emergency False \n",
            " 2, 2020-10-24 11:06:45, Results given,  Employee #9, Lorenzo Oosterhek, M, 092483173, (Analyst jannewillemsen@example.net Biolab <primlab>), The threshold is equal to normal, A very long textual description of what the results actually entail and whether there were any weird instances and/or combinations,\n",
            "2021-09-26 22:46:04, Contact with patient,  GP #3, Jayden Dennenberg, M, 921306489, Patient #240, Bibi Blees, F, (824169736 2005-07-24 Stijnring 42, 8333HU, Alteveer), \n",
            " 3, 2021-09-27 00:24:43, Contact with biolab,  GP #3, Jayden Dennenberg, M, 921306489, Biolab <primlab> \n",
            " 3, 2021-10-06 05:27:36, Test taken, Employee #11, Hamza van der Maath, M, 784316259, (Tester winterssylvie@example.net Biolab <primlab>), Testtube #456852704835, coagulator 4, Emergency False \n",
            " 3, 2021-10-10 02:05:05, Results given,  Employee #6, Silke Kalman, F, 834516093, (Analyst evavan-bernicia@example.com Biolab <primlab>), The threshold is below normal, A very long textual description of what the results actually entail and whether there were any weird instances and/or combinations,\n",
            "2021-02-06 19:54:52, Contact with patient,  GP #27, Nora Huberts, NB, 721693040, Patient #1432, Annemijn Kof, F, (614309281 2006-10-07 Alyssadreef 97, 6943JV, Ter Idzard), \n",
            " 4, 2021-02-06 21:52:25, Contact with biolab,  GP #27, Nora Huberts, NB, 721693040, Biolab <primlab> \n",
            " 4, 2021-02-12 16:44:16, Test taken, Employee #1, Marinus Schouten, M, 245079683, (Tester noahvan-este@example.com Biolab <primlab>), Testtube #440972560479, coagulator 0, Emergency False \n",
            " 4, 2021-02-17 08:46:49, Results given,  Employee #25, Fabiënne Blaak, F, 607984521, (Analyst maartentakkelenburg@example.org Biolab <primlab>), The threshold is equal to normal, A very long textual description of what the results actually entail and whether there were any weird instances and/or combinations,\n",
            "2021-12-15 12:13:43, Contact with patient,  GP #20, Renske Ketting, F, 283975106, Patient #420, Nathan de Werd, M, (596410323 1975-02-15 Jonasdreef 30, 2663FK, Bruchterveld), \n",
            " 5, 2021-12-15 13:19:02, Contact with biolab,  GP #20, Renske Ketting, F, 283975106, Biolab <primlab> \n",
            " 5, 2021-12-19 16:31:50, Test taken, Employee #7, Puk Le Marec, F, 809624370, (Tester jayson07@example.org Biolab <primlab>), Testtube #338283233329, coagulator 2, Emergency False \n",
            " 5, 2021-12-22 22:57:16, Results given,  Employee #10, Josephine Smit, F, 154372092, (Analyst damiankronenberg@example.net Biolab <primlab>), The threshold is above normal, A very long textual description of what the results actually entail and whether there were any weird instances and/or combinations,\n",
            "2022-02-26 23:04:04, Contact with patient,  GP #24, Phileine Jekel, F, 068523919, Patient #578, Bente Tirie, F, (830251479 1955-06-11 Hannahpad 3, 7841 MN, Leutingewolde), \n",
            " 6, 2022-02-27 00:44:52, Contact with biolab,  GP #24, Phileine Jekel, F, 068523919, Biolab <primlab> \n",
            " 6, 2022-03-12 08:04:47, Test taken, Employee #0, Aya van Beieren, F, 856724105, (Tester bweijland@example.net Biolab <primlab>), Testtube #473581698902, coagulator 3, Emergency False \n",
            " 6, 2022-03-16 06:31:15, Results given,  Employee #6, Silke Kalman, F, 834516093, (Analyst evavan-bernicia@example.com Biolab <primlab>), The threshold is below normal, A very long textual description of what the results actually entail and whether there were any weird instances and/or combinations,\n",
            "2020-09-02 21:39:15, Contact with patient,  GP #0, Lauren van de Wiel, F, 014825934, Patient #554, Hidde van Arkel, M, (946251307 2008-04-06 Madsstraat 800, 8750 SD, Lageland), \n",
            " 7, 2020-09-02 22:41:40, Contact with biolab,  GP #0, Lauren van de Wiel, F, 014825934, Biolab <primlab> \n",
            " 7, 2020-09-08 09:05:02, Test taken, Employee #5, Mason Labado, M, 753184205, (Tester floortje62@example.org Biolab <primlab>), Testtube #881310803715, coagulator 5, Emergency False \n",
            " 7, 2020-09-12 18:07:53, Results given,  Employee #22, Jinthe Oosterhek, F, 804371957, (Analyst saslina@example.org Biolab <primlab>), The threshold is equal to normal, A very long textual description of what the results actually entail and whether there were any weird instances and/or combinations,\n",
            "2021-05-17 03:27:50, Contact with patient,  GP #8, Boaz Bertho, M, 537819629, Patient #1282, Marit van der Maath, F, (879012560 1908-03-18 Twandreef 0, 6086EP, Langeweg), \n",
            " 8, 2021-05-17 04:41:20, Contact with biolab,  GP #8, Boaz Bertho, M, 537819629, Biolab <primlab> \n",
            " 8, 2021-05-19 07:42:43, Test taken, Employee #20, Mustafa Kok, M, 083561420, (Tester qernst@example.com Biolab <primlab>), Testtube #918458234488, coagulator 2, Emergency False \n",
            " 8, 2021-05-22 09:04:40, Results given,  Employee #3, Stefan Sas, M, 027148968, (Analyst tvan-ooyen@example.org Biolab <primlab>), The threshold is equal to normal, A very long textual description of what the results actually entail and whether there were any weird instances and/or combinations,\n",
            "2022-01-04 16:06:31, Contact with patient,  GP #12, Selena Stoffel, NB, 962430158, Patient #664, Pim Flink, M, (649713801 1971-09-17 Ilsesingel 2, 6202 ZH, Offingawier), \n",
            " 9, 2022-01-04 16:37:12, Contact with biolab,  GP #12, Selena Stoffel, NB, 962430158, Biolab <primlab> \n",
            " 9, 2022-01-17 20:36:08, Test taken, Employee #29, Joost van Embden, M, 290147359, (Tester ties77@example.com Biolab <primlab>), Testtube #717233135180, coagulator 5, Emergency False \n",
            " 9, 2022-01-21 17:27:51, Results given,  Employee #8, Valentijn de Gruijl, M, 017953649, (Analyst van-rietlily@example.org Biolab <primlab>), The threshold is above normal, A very long textual description of what the results actually entail and whether there were any weird instances and/or combinations,\n",
            "2020-04-07 13:01:59, Contact with patient,  GP #0, Lauren van de Wiel, F, 014825934, Patient #24, Keano Segerszoen, M, (593072145 1975-08-22 Tristanboulevard 218, 1163KD, Schinnen), \n",
            " 10, 2020-04-07 13:18:46, Contact with biolab,  GP #0, Lauren van de Wiel, F, 014825934, Biolab <primlab> \n",
            " 10, 2020-04-13 01:07:02, Test taken, Employee #7, Puk Le Marec, F, 809624370, (Tester jayson07@example.org Biolab <primlab>), Testtube #840770833323, coagulator 7, Emergency False \n",
            " 10, 2020-04-16 18:34:05, Results given,  Employee #6, Silke Kalman, F, 834516093, (Analyst evavan-bernicia@example.com Biolab <primlab>), The threshold is equal to normal, A very long textual description of what the results actually entail and whether there were any weird instances and/or combinations,\n",
            "2021-06-19 16:06:54, Contact with patient,  GP #10, Hannah Jorlink, F, 695802379, Patient #820, Nikki de la Fleche, F, (381702649 1982-06-23 Silweg 95, 4938YW, Geelbroek), \n",
            " 11, 2021-06-19 16:50:36, Contact with biolab,  GP #10, Hannah Jorlink, F, 695802379, Biolab <primlab> \n",
            " 11, 2021-06-29 12:34:25, Test taken, Employee #12, Nadine van Oirschot, F, 785213041, (Tester kai40@example.com Biolab <primlab>), Testtube #493472647155, coagulator 3, Emergency False \n",
            " 11, 2021-07-03 17:16:53, Results given,  Employee #3, Stefan Sas, M, 027148968, (Analyst tvan-ooyen@example.org Biolab <primlab>), The threshold is equal to normal, A very long textual description of what the results actually entail and whether there were any weird instances and/or combinations,\n",
            "2021-10-03 00:17:59, Contact with patient,  GP #7, Jennifer Lucas, F, 328670455, Patient #286, Selena Elbertse, F, (249578104 1962-04-08 Rafweg 1, 5193FU, Buinerveen), \n",
            " 12, 2021-10-03 01:41:21, Contact with biolab,  GP #7, Jennifer Lucas, F, 328670455, Biolab <primlab> \n",
            " 12, 2021-10-16 02:00:51, Test taken, Employee #19, Nina Galenzone, F, 128956306, (Tester zbezemer@example.net Biolab <primlab>), Testtube #351595956015, coagulator 3, Emergency False \n",
            " 12, 2021-10-19 08:30:22, Results given,  Employee #10, Josephine Smit, F, 154372092, (Analyst damiankronenberg@example.net Biolab <primlab>), The threshold is above normal, A very long textual description of what the results actually entail and whether there were any weird instances and/or combinations,\n",
            "2021-03-09 12:13:16, Contact with patient,  GP #3, Jayden Dennenberg, M, 921306489, Patient #1346, Twan Mulder, M, (425360787 1915-08-19 Sofiasingel 981, 7913 IA, 2e Valthermond), \n",
            " 13, 2021-03-09 13:18:13, Contact with biolab,  GP #3, Jayden Dennenberg, M, 921306489, Biolab <primlab> \n",
            " 13, 2021-03-13 21:25:21, Test taken, Employee #24, Nathan de Roo, M, 816450936, (Tester seppellis@example.org Biolab <primlab>), Testtube #899342442315, coagulator 3, Emergency False \n",
            " 13, 2021-03-18 07:59:38, Results given,  Employee #22, Jinthe Oosterhek, F, 804371957, (Analyst saslina@example.org Biolab <primlab>), The threshold is equal to normal, A very long textual description of what the results actually entail and whether there were any weird instances and/or combinations,\n",
            "2022-03-07 07:50:50, Contact with patient,  GP #19, Merle van de Weterink, F, 617524890, Patient #282, Esmee Aeije, F, (061925378 1953-10-21 Wesselpad 507, 6522 PY, Beuningen), \n",
            " 14, 2022-03-07 08:17:26, Contact with biolab,  GP #19, Merle van de Weterink, F, 617524890, Biolab <primlab> \n",
            " 14, 2022-03-11 01:22:42, Test taken, Employee #2, Joël Jansse, M, 397450825, (Tester van-de-klashorstlisa@example.org Biolab <primlab>), Testtube #746523702515, coagulator 0, Emergency False \n",
            " 14, 2022-03-15 19:45:29, Results given,  Employee #8, Valentijn de Gruijl, M, 017953649, (Analyst van-rietlily@example.org Biolab <primlab>), The threshold is equal to normal, A very long textual description of what the results actually entail and whether there were any weird instances and/or combinations,\n",
            "2021-11-21 00:27:40, Contact with patient,  GP #29, Jay Haneberg, M, 247359063, Patient #1441, Liz Jans, F, (962837106 1952-05-04 Milanweg 692, 1179 PG, Biervliet), \n",
            " 15, 2021-11-21 00:42:19, Contact with biolab,  GP #29, Jay Haneberg, M, 247359063, Biolab <primlab> \n",
            " 15, 2021-11-28 14:35:51, Test taken, Employee #1, Marinus Schouten, M, 245079683, (Tester noahvan-este@example.com Biolab <primlab>), Testtube #540117570882, coagulator 3, Emergency False \n",
            " 15, 2021-12-03 08:55:17, Results given,  Employee #3, Stefan Sas, M, 027148968, (Analyst tvan-ooyen@example.org Biolab <primlab>), The threshold is equal to normal, A very long textual description of what the results actually entail and whether there were any weird instances and/or combinations,\n",
            "2021-08-23 18:35:09, Contact with patient,  GP #22, Zeynep Köster, F, 398761504, Patient #271, Benjamin van Hemert, M, (635427011 1912-04-25 Estherstraat 1, 5298 KL, Zandpol), \n",
            " 16, 2021-08-23 20:26:57, Contact with biolab,  GP #22, Zeynep Köster, F, 398761504, Biolab <primlab> \n",
            " 16, 2021-08-31 08:16:25, Test taken, Employee #11, Hamza van der Maath, M, 784316259, (Tester winterssylvie@example.net Biolab <primlab>), Testtube #849913274910, coagulator 4, Emergency False \n",
            " 16, 2021-09-03 18:06:17, Results given,  Employee #22, Jinthe Oosterhek, F, 804371957, (Analyst saslina@example.org Biolab <primlab>), The threshold is equal to normal, A very long textual description of what the results actually entail and whether there were any weird instances and/or combinations,\n",
            "2020-06-26 01:38:11, Contact with patient,  GP #1, Jason Massa, M, 429175061, Patient #557, Micha Momberg, M, (913748055 1944-12-21 Feddesteeg 384, 3464 IC, Wieringerwerf), \n",
            " 17, 2020-06-26 03:31:58, Contact with biolab,  GP #1, Jason Massa, M, 429175061, Biolab <primlab> \n",
            " 17, 2020-07-06 06:00:48, Test taken, Employee #11, Hamza van der Maath, M, 784316259, (Tester winterssylvie@example.net Biolab <primlab>), Testtube #753143281665, coagulator 2, Emergency False \n",
            " 17, 2020-07-10 07:44:51, Results given,  Employee #8, Valentijn de Gruijl, M, 017953649, (Analyst van-rietlily@example.org Biolab <primlab>), The threshold is below normal, A very long textual description of what the results actually entail and whether there were any weird instances and/or combinations,\n",
            "2020-02-13 09:38:14, Contact with patient,  GP #26, Ruben Mansvelt, M, 913780261, Patient #1247, Collin Wilson, M, (520764390 1981-08-11 Boazstraat 34, 4063NR, Tilligte), \n",
            " 18, 2020-02-13 09:53:17, Contact with biolab,  GP #26, Ruben Mansvelt, M, 913780261, Biolab <primlab> \n",
            " 18, 2020-02-23 11:16:15, Test taken, Employee #5, Mason Labado, M, 753184205, (Tester floortje62@example.org Biolab <primlab>), Testtube #414835792714, coagulator 7, Emergency False \n",
            " 18, 2020-02-28 08:21:56, Results given,  Employee #26, Dave Buijs, M, 569278430, (Analyst elif04@example.net Biolab <primlab>), The threshold is equal to normal, A very long textual description of what the results actually entail and whether there were any weird instances and/or combinations,\n",
            "2020-11-06 07:21:14, Contact with patient,  GP #1, Jason Massa, M, 429175061, Patient #1487, Stef de Hoogh, M, (715089365 1951-11-12 Ianbaan 97, 4314SN, Hoogenweg), \n",
            " 19, 2020-11-06 07:46:52, Contact with biolab,  GP #1, Jason Massa, M, 429175061, Biolab <primlab> \n",
            " 19, 2020-11-10 07:24:11, Test taken, Employee #27, Yfke Geldens, F, 317456209, (Tester matthijsde-groot@example.org Biolab <primlab>), Testtube #511691157504, coagulator 5, Emergency False \n",
            " 19, 2020-11-14 23:18:17, Results given,  Employee #10, Josephine Smit, F, 154372092, (Analyst damiankronenberg@example.net Biolab <primlab>), The threshold is equal to normal, A very long textual description of what the results actually entail and whether there were any weird instances and/or combinations,\n"
          ]
        }
      ]
    }
  ]
}