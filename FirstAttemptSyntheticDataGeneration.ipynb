{
  "nbformat": 4,
  "nbformat_minor": 0,
  "metadata": {
    "colab": {
      "name": "SyntheticDataGeneration.ipynb",
      "provenance": []
    },
    "kernelspec": {
      "name": "python3",
      "display_name": "Python 3"
    },
    "language_info": {
      "name": "python"
    }
  },
  "cells": [
    {
      "cell_type": "code",
      "source": [
        "!pip install faker"
      ],
      "metadata": {
        "colab": {
          "base_uri": "https://localhost:8080/"
        },
        "id": "87Z2A46c6bNQ",
        "outputId": "6915d688-03b9-46d2-fc73-8e39c196fb7c"
      },
      "execution_count": null,
      "outputs": [
        {
          "output_type": "stream",
          "name": "stdout",
          "text": [
            "Looking in indexes: https://pypi.org/simple, https://us-python.pkg.dev/colab-wheels/public/simple/\n",
            "Collecting faker\n",
            "  Downloading Faker-13.14.0-py3-none-any.whl (1.6 MB)\n",
            "\u001b[K     |████████████████████████████████| 1.6 MB 5.9 MB/s \n",
            "\u001b[?25hRequirement already satisfied: typing-extensions>=3.10.0.2 in /usr/local/lib/python3.7/dist-packages (from faker) (4.1.1)\n",
            "Requirement already satisfied: python-dateutil>=2.4 in /usr/local/lib/python3.7/dist-packages (from faker) (2.8.2)\n",
            "Requirement already satisfied: six>=1.5 in /usr/local/lib/python3.7/dist-packages (from python-dateutil>=2.4->faker) (1.15.0)\n",
            "Installing collected packages: faker\n",
            "Successfully installed faker-13.14.0\n"
          ]
        }
      ]
    },
    {
      "cell_type": "code",
      "execution_count": null,
      "metadata": {
        "colab": {
          "base_uri": "https://localhost:8080/"
        },
        "id": "aZ_Ff4eF6UYL",
        "outputId": "1322f35f-3d88-439f-d274-60682374f87a"
      },
      "outputs": [
        {
          "output_type": "stream",
          "name": "stdout",
          "text": [
            "['063589242', 'Ise', 'Spiker', 'Colinsingel 03\\n7472 NF\\nSchokland', datetime.date(1968, 4, 1), 'F']\n",
            "['384517262', 'Brian', 'van Gorp', 'Yasminbaan 5\\n7454 AB\\nSchipborg', datetime.date(1921, 4, 17), 'M']\n",
            "['761453982', 'Seth', 'de Heer', 'Evelienstraat 123\\n5178DC\\nOdiliapeel', datetime.date(1976, 5, 20), 'M']\n",
            "['704962585', 'Demi', 'de Haas', 'Meesstraat 9\\n1717OY\\nZaandam', datetime.date(1956, 11, 4), 'F']\n",
            "['401357892', 'Luna', 'van Formbach', 'Youssefdreef 1\\n6154BQ\\nWoudenberg', datetime.date(1964, 3, 5), 'F']\n",
            "['214638091', 'Faye', 'Broeders', 'Simonsteeg 5\\n4205OL\\nOuderkerk aan de Amstel', datetime.date(1999, 1, 23), 'F']\n",
            "['702413653', 'Joshua', 'Uphuis', 'Thijsdreef 49\\n4262 NQ\\nElp', datetime.date(1963, 5, 3), 'M']\n",
            "['136942052', 'Ivy', 'Bloemendaal', 'Lotsteeg 37\\n2401 AW\\nEesergroen', datetime.date(1987, 2, 24), 'F']\n",
            "['037618428', 'Bart', 'Opmans', 'Madeliefsteeg 13\\n4061 YF\\nElsendorp', datetime.date(2010, 5, 1), 'M']\n",
            "['736852104', 'Selina', 'Nek', 'Hannaweg 122\\n2526YS\\nPietersbierum', datetime.date(1974, 7, 29), 'F']\n",
            "['257034183', 'Rosa', 'de Smit', 'Emilysteeg 204\\n4728 ZC\\nBorculo', datetime.date(1987, 8, 27), 'F']\n",
            "['650784194', 'Dylan', 'Louws', 'Maryamsteeg 98\\n7398UB\\nRhoon', datetime.date(1981, 11, 21), 'M']\n",
            "['745310965', 'Jens', 'Kamper', 'Kayleighhof 1\\n6071 NZ\\nDodewaard', datetime.date(1920, 4, 20), 'M']\n",
            "['538947019', 'Ayoub', 'van der Heijden', 'Zoëdreef 969\\n1010 CN\\nDomburg', datetime.date(1958, 3, 15), 'M']\n",
            "['791453066', 'Floortje', 'Beijring', 'Jayring 812\\n8998TP\\nStroobos', datetime.date(1981, 5, 17), 'F']\n",
            "['238051493', 'Lex', 'de Vroege', 'Koenbaan 86\\n2480GZ\\nZwammerdam', datetime.date(1994, 1, 26), 'M']\n",
            "['842609374', 'Norah', 'Poncelet', 'Stellasteeg 523\\n8057UH\\nHerwijnen', datetime.date(1963, 12, 4), 'F']\n",
            "['620478317', 'Luca', 'Haselaar', 'Fabiandreef 512\\n8599 BX\\nWommels', datetime.date(1999, 6, 4), 'M']\n",
            "['429381608', 'Alyssa', 'van Verdun', 'Robinsingel 47\\n7950GG\\nVredenheim', datetime.date(2012, 12, 26), 'F']\n",
            "['627941588', 'Evie', 'Wipstrik', 'Tessadreef 046\\n1860SV\\nLinschoten', datetime.date(1961, 6, 18), 'F']\n",
            "['024736892', 'Boaz', 'Huberts', 'Noëllesteeg 9\\n1734RN\\nOdoorn', datetime.date(2016, 11, 21), 'M']\n",
            "['789541233', 'Tijs', 'Willems van Lier', 'Tygoweg 36\\n6695CB\\nGeesbrug', datetime.date(1933, 12, 22), 'M']\n",
            "['652487038', 'Thomas', 'de Swart', 'Aaronring 894\\n1610XJ\\nBroekhuizen', datetime.date(1965, 1, 6), 'M']\n",
            "['736598017', 'Jip', 'Mens', 'Aliboulevard 400\\n8781KS\\nVeenoord', datetime.date(1924, 6, 21), 'M']\n",
            "['976512804', 'Renske', 'van der Loo', 'Milanbaan 5\\n6524 WR\\nKerkdriel', datetime.date(1956, 11, 2), 'F']\n",
            "['547918069', 'Bas', 'van Bovene', 'Svenring 12\\n5904 RL\\nFeanwâlden', datetime.date(1908, 6, 1), 'M']\n",
            "['360147525', 'Hannah', 'Lagerweij', 'Mayastraat 11\\n4808 UR\\nOverslag', datetime.date(1953, 10, 6), 'F']\n",
            "['419653077', 'Ceylin', 'Gerritsen', 'Julieboulevard 50\\n2959YW\\nMaastricht-Airport', datetime.date(1908, 3, 11), 'F']\n",
            "['968432104', 'Elizabeth', 'van der Berg', 'Finndreef 365\\n8599MQ\\nAmbt Delden', datetime.date(2006, 12, 11), 'F']\n",
            "['803416799', 'Catharina', 'van Goerle', 'Ameliastraat 70\\n4945 UE\\nWesteremden', datetime.date(2007, 8, 25), 'F']\n"
          ]
        }
      ],
      "source": [
        "from faker import Faker\n",
        "import numpy as np\n",
        "patientlist = []\n",
        "listpatients = []\n",
        "fake = Faker('nl_NL')\n",
        "for i in range (0,1500):\n",
        "  patient = Faker('nl_NL')\n",
        "  gender = np.random.choice([\"M\", \"F\", \"NB\"], p=[0.49, 0.49, 0.02])\n",
        "  if gender == \"M\":\n",
        "    patient.firstname = fake.first_name_male \n",
        "  elif gender == \"F\":\n",
        "    patient.firstname = fake.first_name_female\n",
        "  else:\n",
        "    patient.firstname = fake.first_name_nonbinary\n",
        "  #Create a list with the needed information on the patient\n",
        "  patientlist.append(patient.unique.ssn())\n",
        "  patientlist.append(patient.unique.firstname())\n",
        "  patientlist.append(patient.unique.last_name())\n",
        "  patientlist.append(patient.unique.address())\n",
        "  patientlist.append(patient.unique.date_of_birth())\n",
        "  patientlist.append(gender)\n",
        "  #Add the information to the list of patients\n",
        "  listpatients.append(patientlist.copy())\n",
        "  #clear the list for new patients\n",
        "  patientlist.clear()\n",
        "  i = i+1\n",
        "for n in listpatients[0:30]:\n",
        "  print(n)"
      ]
    },
    {
      "cell_type": "code",
      "source": [
        "from faker import Faker\n",
        "import numpy as np\n",
        "GPlist = []\n",
        "listGPs = []\n",
        "#fake = Faker('nl_NL')\n",
        "for i in range (0,30):\n",
        "  GP = Faker('nl_NL')\n",
        "  gender = np.random.choice([\"M\", \"F\", \"NB\"], p=[0.49, 0.49, 0.02])\n",
        "  if gender == \"M\":\n",
        "    GP.firstname = fake.first_name_male \n",
        "  elif gender == \"F\":\n",
        "    GP.firstname = fake.first_name_female\n",
        "  else:\n",
        "    GP.firstname = fake.first_name_nonbinary\n",
        "  #Create a list with the needed information on the GP\n",
        "  GPlist.append(GP.unique.ssn())\n",
        "  GPlist.append(GP.unique.firstname())\n",
        "  GPlist.append(GP.unique.last_name())\n",
        "  #GPlist.append(GP.unique.address())\n",
        "  #GPlist.append(GP.unique.date_of_birth())\n",
        "  GPlist.append(gender)\n",
        "  listGPs.append(GPlist.copy())\n",
        "  GPlist.clear()\n",
        "  #print(GP.firstname(), GP.last_name(), GP.address(), GP.date_of_birth(),gender)\n",
        "  i = i+1 \n",
        "for n in listGPs[0:20]:\n",
        "  print(n)"
      ],
      "metadata": {
        "colab": {
          "base_uri": "https://localhost:8080/"
        },
        "id": "x7m2ZOr5FAJ7",
        "outputId": "ebd33bf3-b38f-4a02-adf5-92fd6785dada"
      },
      "execution_count": null,
      "outputs": [
        {
          "output_type": "stream",
          "name": "stdout",
          "text": [
            "['470186537', 'Eliza', 'Bosch', 'F']\n",
            "['701234891', 'Louise', 'Martens', 'NB']\n",
            "['754930816', 'Esila', 'Rutten', 'F']\n",
            "['769348129', 'Wout', 'Evers', 'M']\n",
            "['794805218', 'Thomas', 'Haack', 'M']\n",
            "['687529414', 'Elif', 'den Haag', 'F']\n",
            "['571439627', 'Carlijn', 'Tirie', 'F']\n",
            "['605981371', 'Esther', 'Driessen', 'F']\n",
            "['386547099', 'Zakaria', 'Westerbeek', 'M']\n",
            "['819430651', 'Bram', 'van de Biezenbos', 'M']\n",
            "['870156299', 'Philip', 'van der Linden', 'M']\n",
            "['792304810', 'Eline', 'Kort', 'F']\n",
            "['152873090', 'Raf', 'Meyer', 'M']\n",
            "['056217390', 'Suus', 'van Hagen', 'F']\n",
            "['374582907', 'Evy', 'Kof', 'F']\n",
            "['462038750', 'Bryan', 'Kuiper', 'M']\n",
            "['516820473', 'Luke', 'Geldens', 'M']\n",
            "['750193682', 'Arthur', 'Vervoort', 'M']\n",
            "['195704630', 'Esila', 'Jacquot', 'F']\n",
            "['715602895', 'Julian', 'van Praagh', 'M']\n"
          ]
        }
      ]
    },
    {
      "cell_type": "code",
      "source": [
        "import random\n",
        "dataset1 = []\n",
        "for i in range (0,1500):\n",
        "  n = random.randint(0,len(listGPs)-1)\n",
        "  doctor = listGPs[n]\n",
        "  patient2 = listpatients[i]\n",
        "  dataset1.append([patient2, doctor])\n",
        "  i = i+1\n",
        "for n in dataset1[0:30]:\n",
        "  print(n)"
      ],
      "metadata": {
        "colab": {
          "base_uri": "https://localhost:8080/"
        },
        "id": "rfeS4uJGHX5_",
        "outputId": "af36144c-8ddc-42e7-9ad1-a3762c5bfb7e"
      },
      "execution_count": null,
      "outputs": [
        {
          "output_type": "stream",
          "name": "stdout",
          "text": [
            "[['063589242', 'Ise', 'Spiker', 'Colinsingel 03\\n7472 NF\\nSchokland', datetime.date(1968, 4, 1), 'F'], ['470186537', 'Eliza', 'Bosch', 'F']]\n",
            "[['384517262', 'Brian', 'van Gorp', 'Yasminbaan 5\\n7454 AB\\nSchipborg', datetime.date(1921, 4, 17), 'M'], ['769348129', 'Wout', 'Evers', 'M']]\n",
            "[['761453982', 'Seth', 'de Heer', 'Evelienstraat 123\\n5178DC\\nOdiliapeel', datetime.date(1976, 5, 20), 'M'], ['819430651', 'Bram', 'van de Biezenbos', 'M']]\n",
            "[['704962585', 'Demi', 'de Haas', 'Meesstraat 9\\n1717OY\\nZaandam', datetime.date(1956, 11, 4), 'F'], ['870156299', 'Philip', 'van der Linden', 'M']]\n",
            "[['401357892', 'Luna', 'van Formbach', 'Youssefdreef 1\\n6154BQ\\nWoudenberg', datetime.date(1964, 3, 5), 'F'], ['750193682', 'Arthur', 'Vervoort', 'M']]\n",
            "[['214638091', 'Faye', 'Broeders', 'Simonsteeg 5\\n4205OL\\nOuderkerk aan de Amstel', datetime.date(1999, 1, 23), 'F'], ['750193682', 'Arthur', 'Vervoort', 'M']]\n",
            "[['702413653', 'Joshua', 'Uphuis', 'Thijsdreef 49\\n4262 NQ\\nElp', datetime.date(1963, 5, 3), 'M'], ['750193682', 'Arthur', 'Vervoort', 'M']]\n",
            "[['136942052', 'Ivy', 'Bloemendaal', 'Lotsteeg 37\\n2401 AW\\nEesergroen', datetime.date(1987, 2, 24), 'F'], ['976835149', 'Fay', 'Versluijs', 'F']]\n",
            "[['037618428', 'Bart', 'Opmans', 'Madeliefsteeg 13\\n4061 YF\\nElsendorp', datetime.date(2010, 5, 1), 'M'], ['386547099', 'Zakaria', 'Westerbeek', 'M']]\n",
            "[['736852104', 'Selina', 'Nek', 'Hannaweg 122\\n2526YS\\nPietersbierum', datetime.date(1974, 7, 29), 'F'], ['870156299', 'Philip', 'van der Linden', 'M']]\n",
            "[['257034183', 'Rosa', 'de Smit', 'Emilysteeg 204\\n4728 ZC\\nBorculo', datetime.date(1987, 8, 27), 'F'], ['605981371', 'Esther', 'Driessen', 'F']]\n",
            "[['650784194', 'Dylan', 'Louws', 'Maryamsteeg 98\\n7398UB\\nRhoon', datetime.date(1981, 11, 21), 'M'], ['462038750', 'Bryan', 'Kuiper', 'M']]\n",
            "[['745310965', 'Jens', 'Kamper', 'Kayleighhof 1\\n6071 NZ\\nDodewaard', datetime.date(1920, 4, 20), 'M'], ['195704630', 'Esila', 'Jacquot', 'F']]\n",
            "[['538947019', 'Ayoub', 'van der Heijden', 'Zoëdreef 969\\n1010 CN\\nDomburg', datetime.date(1958, 3, 15), 'M'], ['632098144', 'Aimée', 'Lucas', 'F']]\n",
            "[['791453066', 'Floortje', 'Beijring', 'Jayring 812\\n8998TP\\nStroobos', datetime.date(1981, 5, 17), 'F'], ['470186537', 'Eliza', 'Bosch', 'F']]\n",
            "[['238051493', 'Lex', 'de Vroege', 'Koenbaan 86\\n2480GZ\\nZwammerdam', datetime.date(1994, 1, 26), 'M'], ['794805218', 'Thomas', 'Haack', 'M']]\n",
            "[['842609374', 'Norah', 'Poncelet', 'Stellasteeg 523\\n8057UH\\nHerwijnen', datetime.date(1963, 12, 4), 'F'], ['632098144', 'Aimée', 'Lucas', 'F']]\n",
            "[['620478317', 'Luca', 'Haselaar', 'Fabiandreef 512\\n8599 BX\\nWommels', datetime.date(1999, 6, 4), 'M'], ['632098144', 'Aimée', 'Lucas', 'F']]\n",
            "[['429381608', 'Alyssa', 'van Verdun', 'Robinsingel 47\\n7950GG\\nVredenheim', datetime.date(2012, 12, 26), 'F'], ['470186537', 'Eliza', 'Bosch', 'F']]\n",
            "[['627941588', 'Evie', 'Wipstrik', 'Tessadreef 046\\n1860SV\\nLinschoten', datetime.date(1961, 6, 18), 'F'], ['386547099', 'Zakaria', 'Westerbeek', 'M']]\n",
            "[['024736892', 'Boaz', 'Huberts', 'Noëllesteeg 9\\n1734RN\\nOdoorn', datetime.date(2016, 11, 21), 'M'], ['152873090', 'Raf', 'Meyer', 'M']]\n",
            "[['789541233', 'Tijs', 'Willems van Lier', 'Tygoweg 36\\n6695CB\\nGeesbrug', datetime.date(1933, 12, 22), 'M'], ['632098144', 'Aimée', 'Lucas', 'F']]\n",
            "[['652487038', 'Thomas', 'de Swart', 'Aaronring 894\\n1610XJ\\nBroekhuizen', datetime.date(1965, 1, 6), 'M'], ['574891365', 'Elin', 'Goyaerts van Waderle', 'F']]\n",
            "[['736598017', 'Jip', 'Mens', 'Aliboulevard 400\\n8781KS\\nVeenoord', datetime.date(1924, 6, 21), 'M'], ['571439627', 'Carlijn', 'Tirie', 'F']]\n",
            "[['976512804', 'Renske', 'van der Loo', 'Milanbaan 5\\n6524 WR\\nKerkdriel', datetime.date(1956, 11, 2), 'F'], ['195704630', 'Esila', 'Jacquot', 'F']]\n",
            "[['547918069', 'Bas', 'van Bovene', 'Svenring 12\\n5904 RL\\nFeanwâlden', datetime.date(1908, 6, 1), 'M'], ['516820473', 'Luke', 'Geldens', 'M']]\n",
            "[['360147525', 'Hannah', 'Lagerweij', 'Mayastraat 11\\n4808 UR\\nOverslag', datetime.date(1953, 10, 6), 'F'], ['687529414', 'Elif', 'den Haag', 'F']]\n",
            "[['419653077', 'Ceylin', 'Gerritsen', 'Julieboulevard 50\\n2959YW\\nMaastricht-Airport', datetime.date(1908, 3, 11), 'F'], ['870156299', 'Philip', 'van der Linden', 'M']]\n",
            "[['968432104', 'Elizabeth', 'van der Berg', 'Finndreef 365\\n8599MQ\\nAmbt Delden', datetime.date(2006, 12, 11), 'F'], ['792304810', 'Eline', 'Kort', 'F']]\n",
            "[['803416799', 'Catharina', 'van Goerle', 'Ameliastraat 70\\n4945 UE\\nWesteremden', datetime.date(2007, 8, 25), 'F'], ['235679410', 'Beau', 'Willems van Lier', 'M']]\n"
          ]
        }
      ]
    },
    {
      "cell_type": "code",
      "source": [
        "from faker import Faker\n",
        "import numpy as np\n",
        "employeelist = []\n",
        "listemployees = []\n",
        "fake = Faker('nl_NL')\n",
        "for i in range (0,30):\n",
        "  employee = Faker('nl_NL')\n",
        "  gender = np.random.choice([\"M\", \"F\", \"NB\"], p=[0.49, 0.49, 0.02])\n",
        "  if gender == \"M\":\n",
        "    employee.firstname = fake.first_name_male \n",
        "  elif gender == \"F\":\n",
        "    employee.firstname = fake.first_name_female\n",
        "  else:\n",
        "    employee.firstname = fake.first_name_nonbinary\n",
        "  #Create a list with the needed information on the GP\n",
        "  employeelist.append(employee.unique.ssn())\n",
        "  employeelist.append(employee.unique.firstname())\n",
        "  employeelist.append(employee.unique.last_name())\n",
        "  employeelist.append(employee.unique.email())\n",
        "  joboption = np.random.choice([\"T\", \"A\"], p=[0.7,0.3])\n",
        "  if joboption == \"T\":\n",
        "    employee.job = \"Tester\"\n",
        "  else:\n",
        "    employee.job = \"Analyst\"\n",
        "  employeelist.append(employee.job)\n",
        "  listemployees.append(employeelist.copy())\n",
        "  employeelist.clear()\n",
        "for n in listemployees[0:10]:\n",
        "  print(n)"
      ],
      "metadata": {
        "colab": {
          "base_uri": "https://localhost:8080/"
        },
        "id": "A2YeR3Gq8y-r",
        "outputId": "a7972b1b-7027-40f2-baac-6a25bc75800f"
      },
      "execution_count": null,
      "outputs": [
        {
          "output_type": "stream",
          "name": "stdout",
          "text": [
            "['097256146', 'Sofia', 'Strijker', 'bpersijn@example.com', 'Analyst']\n",
            "['389410767', 'Rosa', 'van Kasteelen', 'ilseoversteeg@example.net', 'Tester']\n",
            "['734680259', 'Maryam', 'Voortman', 'daschman@example.com', 'Tester']\n",
            "['170659288', 'Abel', 'Bruijne van der Veen', 'mathieunick@example.org', 'Tester']\n",
            "['576293040', 'Pleun', 'Jones', 'van-saksenevi@example.net', 'Tester']\n",
            "['564213901', 'Bas', 'de Pauw', 'corstiaensjoep@example.org', 'Analyst']\n",
            "['256734082', 'Aaliyah', 'Willems', 'grootezoe@example.org', 'Tester']\n",
            "['536418299', 'Dana', 'van Doorn', 'imarchand@example.net', 'Tester']\n",
            "['147358061', 'Mika', 'Rek', 'fkoret@example.com', 'Tester']\n",
            "['970543219', 'Lot', 'Tins', 'sander95@example.com', 'Analyst']\n"
          ]
        }
      ]
    },
    {
      "cell_type": "code",
      "source": [
        "from faker import Faker\n",
        "class Biolab:\n",
        "  def __init__(lab, name, employees):\n",
        "    lab.name = name\n",
        "    lab.employees = listemployees\n",
        "\n",
        "bl = Biolab(\"primlab\", listemployees)\n",
        "print(bl.employees)\n"
      ],
      "metadata": {
        "colab": {
          "base_uri": "https://localhost:8080/"
        },
        "id": "tsxYDkLJb58j",
        "outputId": "a3df0d5c-e613-49e3-8fb6-2e2f2a59805d"
      },
      "execution_count": null,
      "outputs": [
        {
          "output_type": "stream",
          "name": "stdout",
          "text": [
            "[['097256146', 'Sofia', 'Strijker', 'bpersijn@example.com', 'Analyst'], ['389410767', 'Rosa', 'van Kasteelen', 'ilseoversteeg@example.net', 'Tester'], ['734680259', 'Maryam', 'Voortman', 'daschman@example.com', 'Tester'], ['170659288', 'Abel', 'Bruijne van der Veen', 'mathieunick@example.org', 'Tester'], ['576293040', 'Pleun', 'Jones', 'van-saksenevi@example.net', 'Tester'], ['564213901', 'Bas', 'de Pauw', 'corstiaensjoep@example.org', 'Analyst'], ['256734082', 'Aaliyah', 'Willems', 'grootezoe@example.org', 'Tester'], ['536418299', 'Dana', 'van Doorn', 'imarchand@example.net', 'Tester'], ['147358061', 'Mika', 'Rek', 'fkoret@example.com', 'Tester'], ['970543219', 'Lot', 'Tins', 'sander95@example.com', 'Analyst'], ['490873510', 'Bjorn', 'Willemsen', 'de-vriesalexander@example.com', 'Analyst'], ['965204133', 'Sarah', 'de Graaf', 'bmaas@example.org', 'Tester'], ['671924503', 'Ben', 'Borman', 'hailey08@example.net', 'Tester'], ['840635722', 'Riley', 'Osterhoudt', 'dean04@example.com', 'Analyst'], ['368495711', 'Naomi', 'van Salmen', 'keckhardt@example.org', 'Tester'], ['052674137', 'Cornelia', 'van Liendert', 'recersquinn@example.org', 'Tester'], ['134029677', 'Bram', 'Neuzerling', 'maxbeekman@example.net', 'Tester'], ['903157640', 'Job', 'Bosch', 'lynnle-gulcher@example.org', 'Analyst'], ['859124034', 'Morris', 'Lijn', 'jaylinn12@example.org', 'Tester'], ['978106428', 'Lara', 'van Wessex', 'liekekeijser@example.org', 'Tester'], ['735468199', 'Isabelle', 'Tuithof', 'gielvan-der-flaas@example.org', 'Analyst'], ['405731899', 'Liz', 'Kort', 'van-waasties@example.com', 'Tester'], ['493271806', 'Liza', 'Vallenduuk', 'nienke47@example.com', 'Analyst'], ['479836024', 'Fenna', 'Fredriks', 'rik29@example.com', 'Tester'], ['920587343', 'Adriana', 'Heerschop', 'emmentijmen@example.com', 'Tester'], ['693250781', 'Tijs', 'Suijker', 'van-ginkelemma@example.com', 'Tester'], ['849061738', 'Imran', \"d' Heripon\", 'van-klaarwatermark@example.net', 'Tester'], ['867254312', 'Vajèn', 'Meeusen', 'ndirksen@example.com', 'Analyst'], ['691803420', 'Fiene', 'Kramer', 'lindnathan@example.net', 'Tester'], ['860957329', 'Lukas', 'Goderts', 'marchandsimon@example.com', 'Analyst']]\n"
          ]
        }
      ]
    },
    {
      "cell_type": "code",
      "source": [
        "listcoalgulator = [\"none\",\"Sodium Fluoride\", \"EDTA\", \"3.2% Sodium Citrate\", \"Heparin\", \"Citrate\", \"(K2)EDTA\", \"EDTA/plain\"]\n",
        "colourlist = [\"Red\", \"Grey\", \"Purple\", \"Light Blue\", \"Green\", \"Yellow\", \"Pink\", \"Dark blue\"]\n",
        "class Testcolour:\n",
        "  def __init__ (colour, name, coalgulator, ID):\n",
        "    colour.name = colourlist[i]\n",
        "    colour.coalgulator = listcoalgulator[i]\n",
        "    colour.id = i\n",
        "  def __str__ (colour):\n",
        "    return \"Colour [name=%s, coagulator=%s]\"%(colour.name, colour.coalgulator)\n",
        "#Testcolour = Testcolourclass(colourlist[i], listcoalgulator[i],i)\n",
        "for i in range (0,8):\n",
        "  print(Testcolour(i, colourlist[i], listcoalgulator[i]))"
      ],
      "metadata": {
        "id": "PqiCdfGdk__v",
        "colab": {
          "base_uri": "https://localhost:8080/"
        },
        "outputId": "5dcf67c3-a0f7-42b2-8312-d1402c4cbc20"
      },
      "execution_count": null,
      "outputs": [
        {
          "output_type": "stream",
          "name": "stdout",
          "text": [
            "Colour [name=Red, coagulator=none]\n",
            "Colour [name=Grey, coagulator=Sodium Fluoride]\n",
            "Colour [name=Purple, coagulator=EDTA]\n",
            "Colour [name=Light Blue, coagulator=3.2% Sodium Citrate]\n",
            "Colour [name=Green, coagulator=Heparin]\n",
            "Colour [name=Yellow, coagulator=Citrate]\n",
            "Colour [name=Pink, coagulator=(K2)EDTA]\n",
            "Colour [name=Dark blue, coagulator=EDTA/plain]\n"
          ]
        }
      ]
    },
    {
      "cell_type": "code",
      "source": [
        "from faker import Faker\n",
        "import numpy as np\n",
        "TestTubeAttributes = []\n",
        "TestTubes =[]\n",
        "listOfNumbers = []\n",
        "nonUniqueNumbers = []\n",
        "for x in range (0, 4001):\n",
        "    listOfNumbers.append(random.randint(100000000000, 999999999999))\n",
        "for n in range (0,1500):\n",
        "  p = random.randint(0,4000)\n",
        "  if listOfNumbers[p] not in nonUniqueNumbers:\n",
        "    barcode = listOfNumbers[p]\n",
        "    nonUniqueNumbers.append(barcode)\n",
        "  else:\n",
        "    p = random.randint(0,4000)\n",
        "  #TestTubeAttributes.append(n)\n",
        "  TestTubeAttributes.append(barcode)\n",
        "  i = random.randint(0,7)\n",
        "  TestTubeAttributes.append(str(Testcolour(i, colourlist[i], listcoalgulator[i])))\n",
        "  emergency = np.random.choice([\"True\", \"False\"], p=(0.1, 0.9))\n",
        "  TestTubeAttributes.append(emergency)\n",
        "  TestTubes.append(TestTubeAttributes.copy())\n",
        "  TestTubeAttributes.clear()\n",
        "for p in TestTubes[0:10]:\n",
        "  print(p)"
      ],
      "metadata": {
        "colab": {
          "base_uri": "https://localhost:8080/"
        },
        "id": "WV3rgPMjo8yg",
        "outputId": "e5e5d9d5-411b-469a-cde6-5f9c81764823"
      },
      "execution_count": null,
      "outputs": [
        {
          "output_type": "stream",
          "name": "stdout",
          "text": [
            "[293099968863, 'Colour [name=Light Blue, coagulator=3.2% Sodium Citrate]', 'False']\n",
            "[714038878349, 'Colour [name=Purple, coagulator=EDTA]', 'False']\n",
            "[397784069777, 'Colour [name=Grey, coagulator=Sodium Fluoride]', 'False']\n",
            "[320600627490, 'Colour [name=Pink, coagulator=(K2)EDTA]', 'False']\n",
            "[264645457320, 'Colour [name=Green, coagulator=Heparin]', 'False']\n",
            "[665150542753, 'Colour [name=Pink, coagulator=(K2)EDTA]', 'False']\n",
            "[140840823731, 'Colour [name=Purple, coagulator=EDTA]', 'False']\n",
            "[617109344220, 'Colour [name=Dark blue, coagulator=EDTA/plain]', 'False']\n",
            "[240098855841, 'Colour [name=Yellow, coagulator=Citrate]', 'False']\n",
            "[152849722202, 'Colour [name=Pink, coagulator=(K2)EDTA]', 'False']\n"
          ]
        }
      ]
    },
    {
      "cell_type": "code",
      "source": [
        "import datetime\n",
        "import random\n",
        "datematch = []\n",
        "datematchattributes = []\n",
        "i = 0\n",
        "start_date = datetime.datetime(2020, 1, 1, 0, 0, 0)\n",
        "end_date = datetime.datetime(2022, 6, 1, 23, 59, 59)\n",
        "\n",
        "for i in range (0,1500):\n",
        "  time_between_dates = end_date - start_date\n",
        "  seconds_between_dates = time_between_dates.total_seconds()\n",
        "  random_number_of_seconds = random.randrange(seconds_between_dates)\n",
        "  two_hours_max = random.randrange(7200)\n",
        "  two_hours_min = random.randrange(7200,1209600)\n",
        "  time_to_result = random.randrange(259200,432000)\n",
        "  random_date1 = start_date + datetime.timedelta(seconds=random_number_of_seconds)\n",
        "  random_date2 = random_date1 + datetime.timedelta(seconds=two_hours_max)\n",
        "  if \"True\" in TestTubes[i]:\n",
        "    random_date3 = random_date2 + datetime.timedelta(seconds=two_hours_max)\n",
        "  else:\n",
        "    random_date3 = random_date2 + datetime.timedelta(seconds=two_hours_min)\n",
        "  random_date4 = random_date3 + datetime.timedelta(seconds=time_to_result)\n",
        "  datematchattributes.append([i, str(random_date1), str(random_date2), str(random_date3), str(random_date4)])\n",
        "  datematch.append(datematchattributes.copy())\n",
        "  datematchattributes.clear()\n",
        "  i = i +1\n",
        "for q in datematch[0:30]:\n",
        "  print(q)"
      ],
      "metadata": {
        "colab": {
          "base_uri": "https://localhost:8080/"
        },
        "id": "hcsQUlvrj6X_",
        "outputId": "d42365c9-4784-46d7-ee8b-b1d5c64e4262"
      },
      "execution_count": null,
      "outputs": [
        {
          "output_type": "stream",
          "name": "stdout",
          "text": [
            "[[0, '2021-05-09 14:13:47', '2021-05-09 15:22:55', '2021-05-17 17:43:40', '2021-05-22 14:30:08']]\n",
            "[[1, '2022-05-26 07:03:17', '2022-05-26 07:06:55', '2022-06-09 03:48:47', '2022-06-13 18:44:04']]\n",
            "[[2, '2020-08-02 17:06:34', '2020-08-02 17:48:44', '2020-08-12 10:04:57', '2020-08-16 23:26:09']]\n",
            "[[3, '2022-05-17 20:08:46', '2022-05-17 21:42:49', '2022-05-19 20:00:39', '2022-05-23 08:53:19']]\n",
            "[[4, '2020-01-26 16:21:58', '2020-01-26 18:06:45', '2020-02-06 20:28:06', '2020-02-10 09:23:11']]\n",
            "[[5, '2020-04-28 13:27:51', '2020-04-28 15:02:20', '2020-05-05 13:52:55', '2020-05-08 17:15:05']]\n",
            "[[6, '2021-11-07 05:52:16', '2021-11-07 06:11:01', '2021-11-17 02:40:52', '2021-11-21 05:16:48']]\n",
            "[[7, '2020-12-27 22:25:52', '2020-12-27 22:36:51', '2021-01-04 19:39:53', '2021-01-09 04:11:56']]\n",
            "[[8, '2021-03-07 21:25:14', '2021-03-07 22:35:54', '2021-03-15 11:17:03', '2021-03-19 07:14:11']]\n",
            "[[9, '2021-06-23 19:46:01', '2021-06-23 21:20:02', '2021-07-07 01:37:53', '2021-07-11 05:12:12']]\n",
            "[[10, '2022-04-19 17:45:11', '2022-04-19 18:52:07', '2022-04-19 19:59:03', '2022-04-23 08:25:31']]\n",
            "[[11, '2020-04-15 10:03:03', '2020-04-15 11:46:48', '2020-04-21 18:57:15', '2020-04-25 13:53:26']]\n",
            "[[12, '2021-11-13 17:27:46', '2021-11-13 18:13:15', '2021-11-20 21:46:12', '2021-11-25 01:41:04']]\n",
            "[[13, '2021-02-28 15:02:40', '2021-02-28 15:56:25', '2021-03-12 02:09:34', '2021-03-17 02:04:45']]\n",
            "[[14, '2020-09-04 20:18:38', '2020-09-04 21:35:48', '2020-09-04 22:52:58', '2020-09-09 10:13:46']]\n",
            "[[15, '2022-01-10 19:53:30', '2022-01-10 20:56:57', '2022-01-18 00:10:13', '2022-01-21 03:06:23']]\n",
            "[[16, '2021-01-04 17:23:55', '2021-01-04 17:26:16', '2021-01-07 00:34:43', '2021-01-10 04:11:03']]\n",
            "[[17, '2021-11-09 18:36:21', '2021-11-09 19:55:10', '2021-11-22 05:50:49', '2021-11-27 00:50:48']]\n",
            "[[18, '2021-07-22 02:32:40', '2021-07-22 03:29:06', '2021-08-03 18:16:35', '2021-08-07 20:59:04']]\n",
            "[[19, '2020-12-11 07:20:04', '2020-12-11 07:27:45', '2020-12-11 07:35:26', '2020-12-16 00:42:08']]\n",
            "[[20, '2020-05-08 17:06:30', '2020-05-08 17:08:15', '2020-05-10 21:35:57', '2020-05-15 00:32:59']]\n",
            "[[21, '2021-11-27 15:13:16', '2021-11-27 16:37:49', '2021-11-30 20:19:27', '2021-12-04 00:59:54']]\n",
            "[[22, '2020-06-21 22:55:49', '2020-06-21 23:10:37', '2020-06-27 19:28:39', '2020-07-01 10:38:24']]\n",
            "[[23, '2020-01-15 04:17:28', '2020-01-15 04:50:49', '2020-01-15 17:26:19', '2020-01-18 20:12:51']]\n",
            "[[24, '2021-07-08 15:52:01', '2021-07-08 17:50:19', '2021-07-16 05:12:23', '2021-07-21 05:00:33']]\n",
            "[[25, '2020-07-24 14:17:54', '2020-07-24 15:32:45', '2020-08-04 20:39:12', '2020-08-08 23:49:58']]\n",
            "[[26, '2020-11-05 19:06:44', '2020-11-05 19:25:37', '2020-11-06 20:50:17', '2020-11-10 15:56:54']]\n",
            "[[27, '2021-06-29 17:09:38', '2021-06-29 18:50:02', '2021-07-03 20:55:06', '2021-07-08 16:06:42']]\n",
            "[[28, '2021-08-15 15:42:43', '2021-08-15 17:30:48', '2021-08-27 02:47:44', '2021-08-30 20:51:49']]\n",
            "[[29, '2020-01-16 06:00:47', '2020-01-16 08:00:43', '2020-01-28 01:18:44', '2020-02-02 01:17:47']]\n"
          ]
        }
      ]
    },
    {
      "cell_type": "code",
      "source": [
        "import random\n",
        "dataset2 = []\n",
        "tester = []\n",
        "analyst = []\n",
        "for i in range (0,30):\n",
        "  if \"Tester\" in listemployees[i]:\n",
        "    tester.append(listemployees[i])\n",
        "  else:\n",
        "    analyst.append(listemployees[i])\n",
        "  i = i+1\n",
        "print(analyst)"
      ],
      "metadata": {
        "colab": {
          "base_uri": "https://localhost:8080/"
        },
        "id": "VgZK7pgdykKc",
        "outputId": "0bdd8c16-b89a-424c-d6f5-67d19c0d6f60"
      },
      "execution_count": null,
      "outputs": [
        {
          "output_type": "stream",
          "name": "stdout",
          "text": [
            "[['097256146', 'Sofia', 'Strijker', 'bpersijn@example.com', 'Analyst'], ['564213901', 'Bas', 'de Pauw', 'corstiaensjoep@example.org', 'Analyst'], ['970543219', 'Lot', 'Tins', 'sander95@example.com', 'Analyst'], ['490873510', 'Bjorn', 'Willemsen', 'de-vriesalexander@example.com', 'Analyst'], ['840635722', 'Riley', 'Osterhoudt', 'dean04@example.com', 'Analyst'], ['903157640', 'Job', 'Bosch', 'lynnle-gulcher@example.org', 'Analyst'], ['735468199', 'Isabelle', 'Tuithof', 'gielvan-der-flaas@example.org', 'Analyst'], ['493271806', 'Liza', 'Vallenduuk', 'nienke47@example.com', 'Analyst'], ['867254312', 'Vajèn', 'Meeusen', 'ndirksen@example.com', 'Analyst'], ['860957329', 'Lukas', 'Goderts', 'marchandsimon@example.com', 'Analyst']]\n"
          ]
        }
      ]
    },
    {
      "cell_type": "code",
      "source": [
        "import random\n",
        "dataset2 = []\n",
        "for n in range (0,1500):\n",
        "  q = random.randint(0,len(tester)-1)\n",
        "  testperson = tester[q]\n",
        "  tube = TestTubes[n]\n",
        "  dataset2.append([tube, testperson])\n",
        "  i = i+1\n",
        "for n in dataset2[0:30]:\n",
        "  print(n)"
      ],
      "metadata": {
        "colab": {
          "base_uri": "https://localhost:8080/"
        },
        "id": "JmNnofO8c5AN",
        "outputId": "d86ba2bf-d13f-492c-f2e2-f8c7c38d33b4"
      },
      "execution_count": null,
      "outputs": [
        {
          "output_type": "stream",
          "name": "stdout",
          "text": [
            "[[0, 601971841272, 'Colour [name=Grey, coagulator=Sodium Fluoride]', 'False'], ['368495711', 'Naomi', 'van Salmen', 'keckhardt@example.org', 'Tester']]\n",
            "[[1, 361865661536, 'Colour [name=Red, coagulator=none]', 'False'], ['405731899', 'Liz', 'Kort', 'van-waasties@example.com', 'Tester']]\n",
            "[[2, 500862421994, 'Colour [name=Dark blue, coagulator=EDTA/plain]', 'False'], ['920587343', 'Adriana', 'Heerschop', 'emmentijmen@example.com', 'Tester']]\n",
            "[[3, 930364824954, 'Colour [name=Grey, coagulator=Sodium Fluoride]', 'False'], ['405731899', 'Liz', 'Kort', 'van-waasties@example.com', 'Tester']]\n",
            "[[4, 206328068989, 'Colour [name=Green, coagulator=Heparin]', 'False'], ['052674137', 'Cornelia', 'van Liendert', 'recersquinn@example.org', 'Tester']]\n",
            "[[5, 761312754903, 'Colour [name=Yellow, coagulator=Citrate]', 'False'], ['405731899', 'Liz', 'Kort', 'van-waasties@example.com', 'Tester']]\n",
            "[[6, 150597292336, 'Colour [name=Yellow, coagulator=Citrate]', 'False'], ['479836024', 'Fenna', 'Fredriks', 'rik29@example.com', 'Tester']]\n",
            "[[7, 598076128890, 'Colour [name=Grey, coagulator=Sodium Fluoride]', 'True'], ['859124034', 'Morris', 'Lijn', 'jaylinn12@example.org', 'Tester']]\n",
            "[[8, 231372281151, 'Colour [name=Light Blue, coagulator=3.2% Sodium Citrate]', 'False'], ['479836024', 'Fenna', 'Fredriks', 'rik29@example.com', 'Tester']]\n",
            "[[9, 592489679307, 'Colour [name=Grey, coagulator=Sodium Fluoride]', 'False'], ['693250781', 'Tijs', 'Suijker', 'van-ginkelemma@example.com', 'Tester']]\n",
            "[[10, 576574078116, 'Colour [name=Grey, coagulator=Sodium Fluoride]', 'False'], ['479836024', 'Fenna', 'Fredriks', 'rik29@example.com', 'Tester']]\n",
            "[[11, 637323034175, 'Colour [name=Green, coagulator=Heparin]', 'False'], ['978106428', 'Lara', 'van Wessex', 'liekekeijser@example.org', 'Tester']]\n",
            "[[12, 249597627669, 'Colour [name=Grey, coagulator=Sodium Fluoride]', 'False'], ['920587343', 'Adriana', 'Heerschop', 'emmentijmen@example.com', 'Tester']]\n",
            "[[13, 337472042254, 'Colour [name=Light Blue, coagulator=3.2% Sodium Citrate]', 'False'], ['256734082', 'Aaliyah', 'Willems', 'grootezoe@example.org', 'Tester']]\n",
            "[[14, 940874836328, 'Colour [name=Dark blue, coagulator=EDTA/plain]', 'False'], ['576293040', 'Pleun', 'Jones', 'van-saksenevi@example.net', 'Tester']]\n",
            "[[15, 675490852862, 'Colour [name=Red, coagulator=none]', 'False'], ['849061738', 'Imran', \"d' Heripon\", 'van-klaarwatermark@example.net', 'Tester']]\n",
            "[[16, 195766194433, 'Colour [name=Dark blue, coagulator=EDTA/plain]', 'False'], ['576293040', 'Pleun', 'Jones', 'van-saksenevi@example.net', 'Tester']]\n",
            "[[17, 976545171201, 'Colour [name=Red, coagulator=none]', 'False'], ['256734082', 'Aaliyah', 'Willems', 'grootezoe@example.org', 'Tester']]\n",
            "[[18, 435232709552, 'Colour [name=Pink, coagulator=(K2)EDTA]', 'False'], ['849061738', 'Imran', \"d' Heripon\", 'van-klaarwatermark@example.net', 'Tester']]\n",
            "[[19, 269703841345, 'Colour [name=Yellow, coagulator=Citrate]', 'True'], ['576293040', 'Pleun', 'Jones', 'van-saksenevi@example.net', 'Tester']]\n",
            "[[20, 829795559944, 'Colour [name=Light Blue, coagulator=3.2% Sodium Citrate]', 'False'], ['479836024', 'Fenna', 'Fredriks', 'rik29@example.com', 'Tester']]\n",
            "[[21, 792586170590, 'Colour [name=Dark blue, coagulator=EDTA/plain]', 'False'], ['256734082', 'Aaliyah', 'Willems', 'grootezoe@example.org', 'Tester']]\n",
            "[[22, 995832954034, 'Colour [name=Green, coagulator=Heparin]', 'False'], ['389410767', 'Rosa', 'van Kasteelen', 'ilseoversteeg@example.net', 'Tester']]\n",
            "[[23, 761576890819, 'Colour [name=Light Blue, coagulator=3.2% Sodium Citrate]', 'False'], ['920587343', 'Adriana', 'Heerschop', 'emmentijmen@example.com', 'Tester']]\n",
            "[[24, 568301543407, 'Colour [name=Grey, coagulator=Sodium Fluoride]', 'False'], ['389410767', 'Rosa', 'van Kasteelen', 'ilseoversteeg@example.net', 'Tester']]\n",
            "[[25, 630702304931, 'Colour [name=Yellow, coagulator=Citrate]', 'False'], ['405731899', 'Liz', 'Kort', 'van-waasties@example.com', 'Tester']]\n",
            "[[26, 897365411079, 'Colour [name=Light Blue, coagulator=3.2% Sodium Citrate]', 'False'], ['256734082', 'Aaliyah', 'Willems', 'grootezoe@example.org', 'Tester']]\n",
            "[[27, 498072033831, 'Colour [name=Purple, coagulator=EDTA]', 'True'], ['170659288', 'Abel', 'Bruijne van der Veen', 'mathieunick@example.org', 'Tester']]\n",
            "[[28, 948629063582, 'Colour [name=Red, coagulator=none]', 'False'], ['134029677', 'Bram', 'Neuzerling', 'maxbeekman@example.net', 'Tester']]\n",
            "[[29, 394916378885, 'Colour [name=Purple, coagulator=EDTA]', 'False'], ['734680259', 'Maryam', 'Voortman', 'daschman@example.com', 'Tester']]\n"
          ]
        }
      ]
    },
    {
      "cell_type": "code",
      "source": [
        "firstdate = []\n",
        "for i in range (0,1500):\n",
        "    firstdate.append(\"Contact with GP\")\n",
        "    firstdate.append(datematch.random_date1)\n",
        "    if dataset1.patient in dataset2.patient2:\n",
        "      firstdate.append(dataset1)\n",
        "i = i+1\n",
        "for q in firstdate[0:30]:\n",
        "  print(q)"
      ],
      "metadata": {
        "colab": {
          "base_uri": "https://localhost:8080/",
          "height": 243
        },
        "id": "jX8SN2aQhcAa",
        "outputId": "a6cb6215-b5c6-4301-a103-ef99b043e740"
      },
      "execution_count": null,
      "outputs": [
        {
          "output_type": "error",
          "ename": "AttributeError",
          "evalue": "ignored",
          "traceback": [
            "\u001b[0;31m---------------------------------------------------------------------------\u001b[0m",
            "\u001b[0;31mAttributeError\u001b[0m                            Traceback (most recent call last)",
            "\u001b[0;32m<ipython-input-58-90065efcda25>\u001b[0m in \u001b[0;36m<module>\u001b[0;34m()\u001b[0m\n\u001b[1;32m      2\u001b[0m \u001b[0;32mfor\u001b[0m \u001b[0mi\u001b[0m \u001b[0;32min\u001b[0m \u001b[0mrange\u001b[0m \u001b[0;34m(\u001b[0m\u001b[0;36m0\u001b[0m\u001b[0;34m,\u001b[0m\u001b[0;36m1500\u001b[0m\u001b[0;34m)\u001b[0m\u001b[0;34m:\u001b[0m\u001b[0;34m\u001b[0m\u001b[0;34m\u001b[0m\u001b[0m\n\u001b[1;32m      3\u001b[0m     \u001b[0mfirstdate\u001b[0m\u001b[0;34m.\u001b[0m\u001b[0mappend\u001b[0m\u001b[0;34m(\u001b[0m\u001b[0;34m\"Contact with GP\"\u001b[0m\u001b[0;34m)\u001b[0m\u001b[0;34m\u001b[0m\u001b[0;34m\u001b[0m\u001b[0m\n\u001b[0;32m----> 4\u001b[0;31m     \u001b[0mfirstdate\u001b[0m\u001b[0;34m.\u001b[0m\u001b[0mappend\u001b[0m\u001b[0;34m(\u001b[0m\u001b[0mdatematch\u001b[0m\u001b[0;34m.\u001b[0m\u001b[0mrandom_date1\u001b[0m\u001b[0;34m)\u001b[0m\u001b[0;34m\u001b[0m\u001b[0;34m\u001b[0m\u001b[0m\n\u001b[0m\u001b[1;32m      5\u001b[0m     \u001b[0;32mif\u001b[0m \u001b[0mdataset1\u001b[0m\u001b[0;34m.\u001b[0m\u001b[0mpatient\u001b[0m \u001b[0;32min\u001b[0m \u001b[0mdataset2\u001b[0m\u001b[0;34m.\u001b[0m\u001b[0mpatient2\u001b[0m\u001b[0;34m:\u001b[0m\u001b[0;34m\u001b[0m\u001b[0;34m\u001b[0m\u001b[0m\n\u001b[1;32m      6\u001b[0m       \u001b[0mfirstdate\u001b[0m\u001b[0;34m.\u001b[0m\u001b[0mappend\u001b[0m\u001b[0;34m(\u001b[0m\u001b[0mdataset1\u001b[0m\u001b[0;34m)\u001b[0m\u001b[0;34m\u001b[0m\u001b[0;34m\u001b[0m\u001b[0m\n",
            "\u001b[0;31mAttributeError\u001b[0m: 'list' object has no attribute 'random_date1'"
          ]
        }
      ]
    },
    {
      "cell_type": "code",
      "source": [
        "#Import Faker\n",
        "from faker import Faker\n",
        "#Import JSON\n",
        "import json\n",
        " \n",
        "#Declare faker onject\n",
        "fake = Faker()\n",
        " \n",
        "#Define function to generate fake data and store into a JSON file\n",
        "def generate_data(records):\n",
        "    #Declare an empty dictionary\n",
        "    patient ={}\n",
        "    #Iterate the loop based on the input value and generate fake data\n",
        "    for n in range(0, records):\n",
        "        patient[n]={}\n",
        "        patient[n]['id']= fake.random_number(digits=5)\n",
        "        patient[n]['gender'] = np.random.choice([\"M\", \"F\", \"NB\"], p=[0.49, 0.49, 0.02])\n",
        "        if gender == \"M\":\n",
        "          patient[n]['first name']= fake.first_name_male()\n",
        "        elif gender == \"F\":\n",
        "          patient[n]['first name']= fake.first_name_female\n",
        "        else:\n",
        "          patient[n]['first name']= fake.first_name_nonbinary\n",
        "        patient[n]['last name'] = fake.last_name()\n",
        "        patient[n]['address']= fake.address()\n",
        "        #patient[n]['email']= str(fake.email())\n",
        "        #patient[n]['phone']= str(fake.phone_number())\n",
        "        patient[n]['Birth Date'] =str(fake.date_of_birth())\n",
        "    #Write the data into the JSON file\n",
        "    with open('patient.json', 'w') as fp:\n",
        "        json.dump(patient, fp)\n",
        " \n",
        "    print(\"File has been created.\")\n",
        " \n",
        "#Take the number of records from the user\n",
        "num = int(input(\"Enter the number of records:\"))\n",
        "#Call the function to generate fake records and store into a json file\n",
        "generate_data(num)"
      ],
      "metadata": {
        "colab": {
          "base_uri": "https://localhost:8080/"
        },
        "id": "aCg6qsOiQpUw",
        "outputId": "2adc2c02-a920-441b-e8cd-72df2b04e7bd"
      },
      "execution_count": null,
      "outputs": [
        {
          "output_type": "stream",
          "name": "stdout",
          "text": [
            "Enter the number of records:10\n",
            "File has been created.\n"
          ]
        }
      ]
    }
  ]
}
